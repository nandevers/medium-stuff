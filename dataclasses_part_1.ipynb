{
 "cells": [
  {
   "cell_type": "markdown",
   "id": "705668c5",
   "metadata": {},
   "source": [
    "# Domain driven models\n",
    "\n",
    "Focus on business logic\n",
    "\n",
    "Example Architecture\n",
    "\n",
    "- Business\n",
    "- Person \n",
    "- Evaluation\n",
    "    - Batch\n",
    "    - Rule"
   ]
  },
  {
   "cell_type": "code",
   "execution_count": 10,
   "id": "5e2e6eb7",
   "metadata": {},
   "outputs": [],
   "source": [
    "from dataclasses import dataclass"
   ]
  },
  {
   "cell_type": "markdown",
   "id": "46fb9187",
   "metadata": {},
   "source": [
    "Let us see some of the benefits of using dataclasses to create our rules. Rule is a value object and what it means is that if we change one of its constituting parts the object comparison is different. \n",
    "\n",
    "Let's see in practice"
   ]
  },
  {
   "cell_type": "code",
   "execution_count": 59,
   "id": "449436db",
   "metadata": {},
   "outputs": [],
   "source": [
    "@dataclass()\n",
    "class Rule:\n",
    "    rule_id: str\n",
    "    criteria: str\n",
    "    operator: int\n",
    "    value: int"
   ]
  },
  {
   "cell_type": "code",
   "execution_count": 70,
   "id": "0e285904",
   "metadata": {},
   "outputs": [],
   "source": [
    "rule_1 = Rule(\"0001\", \"years_old\", \">\", 18)\n",
    "rule_2 = Rule(\"0001\", \"years_old\", \">\", 18)"
   ]
  },
  {
   "cell_type": "markdown",
   "id": "44edd266",
   "metadata": {},
   "source": [
    "Now, after comparing the two rules, we notice that they are actually equal. "
   ]
  },
  {
   "cell_type": "code",
   "execution_count": 61,
   "id": "01fa0086",
   "metadata": {},
   "outputs": [
    {
     "data": {
      "text/plain": [
       "True"
      ]
     },
     "execution_count": 61,
     "metadata": {},
     "output_type": "execute_result"
    }
   ],
   "source": [
    "rule_1 == rule_2"
   ]
  },
  {
   "cell_type": "markdown",
   "id": "c3f7d2e7",
   "metadata": {},
   "source": [
    "Now, let us implement a \"regular\" class to see the difference. "
   ]
  },
  {
   "cell_type": "code",
   "execution_count": 62,
   "id": "134512ef",
   "metadata": {},
   "outputs": [],
   "source": [
    "class Rule:\n",
    "    def __init__(self, rule_id, column_name, operator, value):\n",
    "        self.rule_id = rule_id\n",
    "        self.column_name = column_name\n",
    "        self.operator = operator\n",
    "        self.value = value"
   ]
  },
  {
   "cell_type": "markdown",
   "id": "72412c9a",
   "metadata": {},
   "source": [
    "BAAAMM!! It returns false. How can we fix this.\n",
    "\n"
   ]
  },
  {
   "cell_type": "code",
   "execution_count": 64,
   "id": "cda9bf81",
   "metadata": {},
   "outputs": [
    {
     "data": {
      "text/plain": [
       "False"
      ]
     },
     "execution_count": 64,
     "metadata": {},
     "output_type": "execute_result"
    }
   ],
   "source": [
    "rule_1 = Rule(\"0001\", \"years_old\", \">\", 18)\n",
    "rule_2 = Rule(\"0001\", \"years_old\", \">\", 18)\n",
    "\n",
    "rule_1 == rule_2"
   ]
  },
  {
   "cell_type": "markdown",
   "id": "6f57a7f3",
   "metadata": {},
   "source": [
    "As we can see, it is much less verbose to use dataclasses and besides that there are a lot of built-in \"facilities\" to help us manipulate data in Pyhton. \n",
    "\n",
    "In order to fix the Rule class, we'd have to implement a magic or **dunder** method `__eq__`"
   ]
  },
  {
   "cell_type": "code",
   "execution_count": 65,
   "id": "d8bc4b0f",
   "metadata": {},
   "outputs": [],
   "source": [
    "class Rule:\n",
    "    def __init__(self, rule_id: str, column_name: str, operator: str, value: int):\n",
    "        self.rule_id = rule_id\n",
    "        self.column_name = column_name\n",
    "        self.operator = operator\n",
    "        self.value = value\n",
    "\n",
    "    def __eq__(self, other):\n",
    "        return all(\n",
    "            [\n",
    "                self.rule_id == other.rule_id,\n",
    "                self.column_name == other.column_name,\n",
    "                self.operator == other.operator,\n",
    "                self.value == other.value,\n",
    "            ]\n",
    "        )"
   ]
  },
  {
   "cell_type": "code",
   "execution_count": 66,
   "id": "630cbc18",
   "metadata": {},
   "outputs": [
    {
     "data": {
      "text/plain": [
       "True"
      ]
     },
     "execution_count": 66,
     "metadata": {},
     "output_type": "execute_result"
    }
   ],
   "source": [
    "rule_1 = Rule(\"0001\", \"years_old\", \">\", 18)\n",
    "rule_2 = Rule(\"0001\", \"years_old\", \">\", 18)\n",
    "\n",
    "rule_1 == rule_2"
   ]
  },
  {
   "cell_type": "code",
   "execution_count": 71,
   "id": "14ee205f",
   "metadata": {},
   "outputs": [
    {
     "data": {
      "text/plain": [
       "True"
      ]
     },
     "execution_count": 71,
     "metadata": {},
     "output_type": "execute_result"
    }
   ],
   "source": [
    "rule_1.__eq__(rule_2)"
   ]
  },
  {
   "cell_type": "markdown",
   "id": "ff24cab7",
   "metadata": {},
   "source": [
    "---"
   ]
  }
 ],
 "metadata": {
  "kernelspec": {
   "display_name": "Python 3 (ipykernel)",
   "language": "python",
   "name": "python3"
  },
  "language_info": {
   "codemirror_mode": {
    "name": "ipython",
    "version": 3
   },
   "file_extension": ".py",
   "mimetype": "text/x-python",
   "name": "python",
   "nbconvert_exporter": "python",
   "pygments_lexer": "ipython3",
   "version": "3.8.10"
  }
 },
 "nbformat": 4,
 "nbformat_minor": 5
}
